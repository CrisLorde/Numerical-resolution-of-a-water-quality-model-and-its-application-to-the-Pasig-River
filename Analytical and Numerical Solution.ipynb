{
 "cells": [
  {
   "cell_type": "code",
   "execution_count": 1,
   "id": "b9882215",
   "metadata": {},
   "outputs": [],
   "source": [
    "from scipy.sparse import diags #linalg\n",
    "from scipy.linalg import solve\n",
    "import numpy as np\n",
    "from matplotlib import pyplot as plt\n",
    "from matplotlib import animation as animation\n",
    "from IPython.display import HTML\n",
    "import math"
   ]
  },
  {
   "cell_type": "code",
   "execution_count": 2,
   "id": "ddd6f93f",
   "metadata": {},
   "outputs": [],
   "source": [
    "def solver(T,dt, A, C):\n",
    "    N = int(round(T/dt))\n",
    "    t = np.linspace(0,T,N+1) #time discrete\n",
    "    M = int(round(L/dx))\n",
    "    x = np.linspace(0,L,M+1) #space discrete\n",
    "    E = np.zeros((M+1,N+1))\n",
    "    Em_E = np.zeros((M+1,N+1))\n",
    "    BW = np.zeros((M+1,10))\n",
    "    B = np.zeros((M+1))\n",
    "    RHS = np.zeros((M+1))\n",
    "    gamma = 0.99\n",
    "   \n",
    "    Em_E[0,0] = gamma\n",
    "    \n",
    "    M1 = Z / dt +  gamma*(A + C)\n",
    "    B[0] = 0.99\n",
    "    E[:,1] = np.linalg.solve(M1, B)\n",
    "   \n",
    "   \n",
    "    for n in range(1,N):\n",
    "        M1 = Z / dt +  gamma*(A + C)\n",
    "        M2 = Z / dt\n",
    "        B[0] = 0.99\n",
    "        RHS[:] = M2.dot(E[:,n]) + B\n",
    "        E[:,n+1] = np.linalg.solve(M1, RHS) \n",
    "        E[M,n+1] = 0\n",
    "        \n",
    "    return   E, x, t\n"
   ]
  },
  {
   "cell_type": "code",
   "execution_count": 3,
   "id": "cf2b55d4",
   "metadata": {
    "scrolled": false
   },
   "outputs": [],
   "source": [
    "from scipy.integrate import quad\n",
    "#Solving for matrices L1, L2, L3\n",
    "T = 50\n",
    "L = 100\n",
    "l = 1          #element distance\n",
    "dt = 1         #time step size\n",
    "dx = 1\n",
    "N = int(round(T/dt))          #no. of time steps\n",
    "M = int(round(L/dx))          #no. of nodes\n",
    "\n",
    "#Solving for A\n",
    "def integrand(x):\n",
    "    return -(-1/l)*(1-x/l)\n",
    "ans1, err = quad(integrand, 0, l)\n",
    "\n",
    "def integrand(x):\n",
    "    return -(-1/l)*(x/l)\n",
    "ans2, err = quad(integrand, 0, l)\n",
    "\n",
    "def integrand(x):\n",
    "    return -(1/l)*(1-x/l)\n",
    "ans3, err = quad(integrand, 0, l)\n",
    "\n",
    "def integrand(x):\n",
    "    return -(1/l)*(x/l)\n",
    "ans4, err = quad(integrand, 0, l)\n",
    "\n",
    "A = diags([ans3,(ans1+ans4),ans2], [-1,0,1], shape=(M+1, M+1)).toarray()\n",
    "A[0, 0] = ans1\n",
    "A[M, M] = ans4\n",
    "\n",
    "#Solving for C\n",
    "\n",
    "def integrand(x):\n",
    "    return (-1/l)*(-1/l)\n",
    "ans16, err = quad(integrand, 0, l)\n",
    "\n",
    "def integrand(x):\n",
    "    return (-1/l)*(1/l)\n",
    "ans17, err = quad(integrand, 0, l)\n",
    "\n",
    "def integrand(x):\n",
    "    return (1/l)*(-1/l)\n",
    "ans18, err = quad(integrand, 0, l)\n",
    "\n",
    "def integrand(x):\n",
    "    return (1/l)*(1/l)\n",
    "ans19, err = quad(integrand, 0, l)\n",
    "\n",
    "C = diags([ans18,(ans16+ans19),ans17], [-1,0,1], shape=(M+1, M+1)).toarray()\n",
    "C[0,0] = ans16\n",
    "C[M,M] = ans19\n",
    "\n",
    "#Solving for Z\n",
    "\n",
    "def integrand(x):\n",
    "    return (1-x/l)*(1-x/l)\n",
    "ans20, err = quad(integrand, 0, l)\n",
    "\n",
    "def integrand(x):\n",
    "    return (1-x/l)*(x/l)\n",
    "ans21, err = quad(integrand, 0, l)\n",
    "\n",
    "def integrand(x):\n",
    "    return (x/l)*(1-x/l)\n",
    "ans22, err = quad(integrand, 0, l)\n",
    "\n",
    "def integrand(x):\n",
    "    return (x/l)*(x/l)\n",
    "ans23, err = quad(integrand, 0, l)\n",
    "\n",
    "Z = diags([ans22,(ans20+ans23),ans21], [-1,0,1], shape=(M+1, M+1)).toarray()\n",
    "Z[0, 0] = ans20\n",
    "Z[M, M] = ans23\n",
    "\n",
    "\n",
    "(E,x,t) = solver(T,dt, A, C)\n"
   ]
  },
  {
   "cell_type": "code",
   "execution_count": 4,
   "id": "f6fc0944",
   "metadata": {},
   "outputs": [],
   "source": [
    "M = 100\n",
    "N = 50\n",
    "X = np.zeros((M+1,N+1))\n",
    "gamma = 0.99"
   ]
  },
  {
   "cell_type": "code",
   "execution_count": 5,
   "id": "dadf358d",
   "metadata": {},
   "outputs": [],
   "source": [
    "for n in range(1,N+1):\n",
    "    for m in range (M+1):\n",
    "        X[m,n] =(math.exp((1/2)*m-(gamma/4)*n))*0.5*(math.exp((gamma/4)*n-0.5*m)*math.erfc(m/(2*math.sqrt(gamma*n))-math.sqrt((gamma/4)*n))+math.exp((gamma/4)*n+0.5*m)*math.erfc(m/(2*math.sqrt(gamma*n))+math.sqrt((gamma/4)*n)))\n"
   ]
  },
  {
   "cell_type": "code",
   "execution_count": 6,
   "id": "a55a4a63",
   "metadata": {},
   "outputs": [
    {
     "data": {
      "image/png": "[encoded data removed]",
      "text/plain": [
       "<Figure size 432x288 with 1 Axes>"
      ]
     },
     "metadata": {
      "needs_background": "light"
     },
     "output_type": "display_data"
    }
   ],
   "source": [
    "fig, ax = plt.subplots()\n",
    "ax.axis([0.0,100+0.1,-0.01,1.1]) \n",
    "ax.grid(which='major', color='#DDDDDD', linewidth=0.8)\n",
    "ax.grid(which='minor', color='#EEEEEE', linestyle=':', linewidth=0.5)\n",
    "ax.minorticks_on()\n",
    "\n",
    "plt.plot(E[:,N])\n",
    "plt.plot(X[:,N])\n",
    "plt.legend([\"Numerical\",\"Analytical\"], loc =\"upper right\")\n",
    "plt.xlabel(\"x\")\n",
    "plt.ylabel(\"$\\eta$\")\n",
    "plt.title(\"Solutions to Equation (6.23)\")\n",
    "plt.savefig('Analytical and Numerical Solution.png')\n",
    "\n",
    "plt.show()"
   ]
  },
  {
   "cell_type": "code",
   "execution_count": 8,
   "id": "a48dfe37",
   "metadata": {},
   "outputs": [
    {
     "name": "stdout",
     "output_type": "stream",
     "text": [
      "0.9941880132413176\n"
     ]
    }
   ],
   "source": [
    "print(r_squared_value)"
   ]
  },
  {
   "cell_type": "code",
   "execution_count": null,
   "id": "25051b6b",
   "metadata": {},
   "outputs": [],
   "source": []
  },
  {
   "cell_type": "code",
   "execution_count": 7,
   "id": "25a0a094",
   "metadata": {},
   "outputs": [],
   "source": [
    "from sklearn.metrics import r2_score\n",
    "# define x and y\n",
    "x = E[:,N]\n",
    "y = X[:,N]\n",
    " \n",
    "# r square estimation\n",
    "r_squared_value = r2_score(x, y)\n"
   ]
  },
  {
   "cell_type": "code",
   "execution_count": null,
   "id": "00ca57eb",
   "metadata": {},
   "outputs": [],
   "source": []
  }
 ],
 "metadata": {
  "celltoolbar": "Raw Cell Format",
  "kernelspec": {
   "display_name": "Python 3 (ipykernel)",
   "language": "python",
   "name": "python3"
  },
  "language_info": {
   "codemirror_mode": {
    "name": "ipython",
    "version": 3
   },
   "file_extension": ".py",
   "mimetype": "text/x-python",
   "name": "python",
   "nbconvert_exporter": "python",
   "pygments_lexer": "ipython3",
   "version": "3.9.12"
  }
 },
 "nbformat": 4,
 "nbformat_minor": 5
}
